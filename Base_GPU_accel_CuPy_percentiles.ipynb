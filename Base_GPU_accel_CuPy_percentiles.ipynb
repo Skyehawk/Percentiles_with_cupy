{
 "cells": [
  {
   "cell_type": "markdown",
   "id": "11a8bf49",
   "metadata": {},
   "source": [
    "# CuPy - Cuda Python\n",
    "## _GPU acceleration of embarrassingly parallel tasks_\n",
    "\n",
    "[![N|Solid](https://developer.nvidia.com/sites/default/files/akamai/cupy.png)](https://nvidia.github.io/cuda-python/overview.html)\n",
    "\n",
    "GPU-accelerated computing with Python\n",
    "\n",
    "- Simple integration with SciPy, Xarray and Dask\n",
    "- ✨Magic ✨\n",
    "\n",
    "\n",
    "[Users Guide](https://readthedocs.org/projects/cupy/downloads/pdf/stable/)\n",
    "\n",
    "[cupy-xarray](https://github.com/xarray-contrib/cupy-xarray)\n"
   ]
  },
  {
   "cell_type": "raw",
   "id": "1e868702",
   "metadata": {},
   "source": [
    "from dask.distributed import Client\n",
    "client = Client()"
   ]
  },
  {
   "cell_type": "code",
   "execution_count": 1,
   "id": "6c47f004",
   "metadata": {},
   "outputs": [],
   "source": [
    "import cupy as cp\n",
    "import dask.array as da"
   ]
  },
  {
   "cell_type": "markdown",
   "id": "c0a8bb88",
   "metadata": {},
   "source": [
    "### Generate some synthetic data for testing\n",
    "\n",
    "This will be fast as we are doing three things that aid in the speed of this cell\n",
    "- Not using disk I/O\n",
    "- Not moving data from RAM to graphics memory\n",
    "- Using GPU to generate data in a parellel manner"
   ]
  },
  {
   "cell_type": "code",
   "execution_count": 32,
   "id": "fd2c6684",
   "metadata": {},
   "outputs": [],
   "source": [
    "# Define synthetic data dimensions\n",
    "lat = cp.linspace(0, 10, 501)  # Replace with your desired latitude values\n",
    "lon = cp.linspace(0, 10, 502)  # Replace with your desired longitude values\n",
    "time = cp.arange(0, 1000) #1234     # Replace with your desired time values\n",
    "\n",
    "# Generate synthetic data using meshgrid\n",
    "lon_mesh, lat_mesh, time_mesh = cp.meshgrid(lon, lat, time, indexing='ij')\n",
    "\n",
    "# Create a synthetic data array with random values - random noise from a uniform distribution\n",
    "#synthetic_data = cp.random.rand(lat.shape[0], lon.shape[0], time.shape[0])\n",
    "\n",
    "# Create a synthetic data array with constant values - all values at t=0 are 0, t=1 are 1, t=1000 are 1000, etc\n",
    "synthetic_data = cp.tile(cp.arange(time.shape[0])[:, cp.newaxis, cp.newaxis], (1, 502, 501)).transpose(2, 1, 0)\n",
    "\n",
    "# Convert synthetic data to a Dask array\n",
    "data_dask = da.from_array(synthetic_data, chunks=(501, 502, -1))  # Chunking along the 'time' axis\n"
   ]
  },
  {
   "cell_type": "code",
   "execution_count": 33,
   "id": "8cc7c853",
   "metadata": {},
   "outputs": [
    {
     "data": {
      "text/plain": [
       "(501, 502, 1000)"
      ]
     },
     "execution_count": 33,
     "metadata": {},
     "output_type": "execute_result"
    }
   ],
   "source": [
    "da.shape(synthetic_data)"
   ]
  },
  {
   "cell_type": "markdown",
   "id": "2fff087c",
   "metadata": {},
   "source": [
    "### Calculate percentiles for the grid\n",
    "\n",
    "Data have been loaded (created) into GPU memory, we now leverage the GPU and pull the data we need. \n",
    "\n",
    "Saving out intermediate results can REALLY be a bottleneck here, as passing data between the GPU and CPU is slow by comparison.\n",
    "\n"
   ]
  },
  {
   "cell_type": "code",
   "execution_count": 34,
   "id": "76961740",
   "metadata": {},
   "outputs": [],
   "source": [
    "# Define the desired percentile(s)\n",
    "percentiles = [50, 80, 90, 95, 99, 99.5, 99.9]\n",
    "\n",
    "# Define the axis along which to calculate percentiles (default 'time')\n",
    "axis = 2  # Calculate percentiles along the 'time' axis (axis 2)\n",
    "\n",
    "# Function to calculate percentiles using cuPy\n",
    "def calculate_percentiles(chunk):\n",
    "    # Perform GPU-accelerated percentile calculation\n",
    "    return cp.percentile(chunk, q=percentiles, axis=axis)  # GPU computation\n",
    "\n",
    "# Use Dask's map_blocks to apply the percentile calculation to each chunk \n",
    "# We use map_blocks over @dask.delayed in this case, that implementation has been more error prone in initial testing\n",
    "percentile_results = data_dask.map_blocks(calculate_percentiles, dtype='float64')\n",
    "\n",
    "# Compute the results (this triggers the computation)\n",
    "percentile_results = percentile_results.compute()\n"
   ]
  },
  {
   "cell_type": "code",
   "execution_count": 35,
   "id": "916cfbe2",
   "metadata": {},
   "outputs": [
    {
     "data": {
      "text/plain": [
       "(7, 501, 502)"
      ]
     },
     "execution_count": 35,
     "metadata": {},
     "output_type": "execute_result"
    }
   ],
   "source": [
    "# we are expecting an array of shape len(percentiles), lat, lon\n",
    "cp.shape(percentile_results)"
   ]
  },
  {
   "cell_type": "code",
   "execution_count": 36,
   "id": "d61a4cd5",
   "metadata": {},
   "outputs": [
    {
     "data": {
      "text/plain": [
       "array([[499.5, 499.5, 499.5, ..., 499.5, 499.5, 499.5],\n",
       "       [499.5, 499.5, 499.5, ..., 499.5, 499.5, 499.5],\n",
       "       [499.5, 499.5, 499.5, ..., 499.5, 499.5, 499.5],\n",
       "       ...,\n",
       "       [499.5, 499.5, 499.5, ..., 499.5, 499.5, 499.5],\n",
       "       [499.5, 499.5, 499.5, ..., 499.5, 499.5, 499.5],\n",
       "       [499.5, 499.5, 499.5, ..., 499.5, 499.5, 499.5]])"
      ]
     },
     "execution_count": 36,
     "metadata": {},
     "output_type": "execute_result"
    }
   ],
   "source": [
    "#we need to call .get() to pull these values from the GPU for CPU plotting. \n",
    "percentile_results[0, :, :].get()"
   ]
  },
  {
   "cell_type": "markdown",
   "id": "c71fdee9",
   "metadata": {},
   "source": [
    "### Finally plot the results\n",
    "\n",
    "As data are from a uniform distribution [0,1] a 99.9th percentile should yeild the associated range (dependent on the number of samples for convergence) on the cbar\n"
   ]
  },
  {
   "cell_type": "code",
   "execution_count": 40,
   "id": "879a193c",
   "metadata": {},
   "outputs": [
    {
     "data": {
      "image/png": "[encoded data removed]",
      "text/plain": [
       "<Figure size 640x480 with 2 Axes>"
      ]
     },
     "metadata": {},
     "output_type": "display_data"
    }
   ],
   "source": [
    "import matplotlib.pyplot as plt\n",
    "\n",
    "# as defined above: percentiles = [50, 80, 90, 95, 99, 99.5, 99.9]\n",
    "nth_percentile = 6\n",
    "data_to_plot = percentile_results[nth_percentile, :, :].get()  #.get() is necessary to move data from the GPU memory to the CPU side\n",
    "\n",
    "# Create a pcolormesh plot\n",
    "plt.pcolormesh(lon.get(), lat.get(), data_to_plot, cmap='viridis', vmin=0, vmax=1000)\n",
    "plt.colorbar(label='Percentile Value')\n",
    "plt.title(f'Percentile Results for the {percentiles[nth_percentile]}th Percentile')\n",
    "plt.xlabel('Longitude')\n",
    "plt.ylabel('Latitude')\n",
    "plt.show()\n"
   ]
  },
  {
   "cell_type": "code",
   "execution_count": null,
   "id": "1a8fd3f7",
   "metadata": {},
   "outputs": [],
   "source": []
  }
 ],
 "metadata": {
  "kernelspec": {
   "display_name": "Python 3 (ipykernel)",
   "language": "python",
   "name": "python3"
  },
  "language_info": {
   "codemirror_mode": {
    "name": "ipython",
    "version": 3
   },
   "file_extension": ".py",
   "mimetype": "text/x-python",
   "name": "python",
   "nbconvert_exporter": "python",
   "pygments_lexer": "ipython3",
   "version": "3.9.13"
  }
 },
 "nbformat": 4,
 "nbformat_minor": 5
}
